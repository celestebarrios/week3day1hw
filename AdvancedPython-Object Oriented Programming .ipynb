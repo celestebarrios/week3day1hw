{
 "cells": [
  {
   "cell_type": "markdown",
   "metadata": {},
   "source": [
    "# Advanced Object-Oriented-Programming (OOP)"
   ]
  },
  {
   "cell_type": "markdown",
   "metadata": {},
   "source": [
    "## Tasks Today:\n",
    "\n",
    "1) <b>Creating Multiple Instances Through Loops</b> <br>\n",
    " &nbsp;&nbsp;&nbsp;&nbsp; a) Using Loops <br>\n",
    " &nbsp;&nbsp;&nbsp;&nbsp; b) Using Multiple Lists with Loops <br>\n",
    " &nbsp;&nbsp;&nbsp;&nbsp; c) Using List Comprehension with Classes<br>\n",
    " &nbsp;&nbsp;&nbsp;&nbsp; d) In-Class Exercise #1 <br>\n",
    "2) <b>Magic Methods</b> <br>\n",
    " &nbsp;&nbsp;&nbsp;&nbsp; a) \\__str\\__ <br>\n",
    " &nbsp;&nbsp;&nbsp;&nbsp; b) \\__add\\__ <br>\n",
    " &nbsp;&nbsp;&nbsp;&nbsp; c) Overriding Magic Methods <br>\n",
    " &nbsp;&nbsp;&nbsp;&nbsp; d) In-Class Exercise #2 <br>\n",
    "3) <b>Inheritance & Method Overriding (recap)</b> <br>\n",
    " &nbsp;&nbsp;&nbsp;&nbsp; a) Inheriting (recap)  <br>\n",
    " &nbsp;&nbsp;&nbsp;&nbsp; b) Overriding Inherited Magic Methods <br>\n",
    " &nbsp;&nbsp;&nbsp;&nbsp; c) Inheriting Multiple Classes <br>\n",
    " &nbsp;&nbsp;&nbsp;&nbsp; d) In-Class Exercise #3 <br>"
   ]
  },
  {
   "cell_type": "markdown",
   "metadata": {},
   "source": [
    "## Creating Multiple Instances Through Loops <br>\n",
    "<p>We can use loops to create multiple instances of a single object in just a couple of lines, even just one line.</p>"
   ]
  },
  {
   "cell_type": "markdown",
   "metadata": {},
   "source": [
    "#### Using Loops"
   ]
  },
  {
   "cell_type": "code",
   "execution_count": 9,
   "metadata": {},
   "outputs": [
    {
     "name": "stdout",
     "output_type": "stream",
     "text": [
      "Lassie has 4 legs.\n",
      "Max has 4 legs.\n",
      "Max has 0 legs.\n",
      "Max has 1 legs.\n",
      "Max has 2 legs.\n",
      "Max has 3 legs.\n",
      "Max has 4 legs.\n"
     ]
    }
   ],
   "source": [
    "class Dog():\n",
    "    def __init__(self, name, legs):\n",
    "        self.name = name\n",
    "        self.legs = legs\n",
    "    def printInfo(self):\n",
    "        print(f\"{self.name} has {self.legs} legs.\")     \n",
    "        \n",
    "#multiple instances assigned into different variables \n",
    "dog1 = Dog('Lassie', 4)\n",
    "dog2 = Dog('Max', 4)\n",
    "\n",
    "dog1.printInfo()\n",
    "dog2.printInfo()\n",
    "#Empty list that willl hold all dog instances\n",
    "dogs = []\n",
    "for i in range(5):\n",
    "    dogs.append(Dog('Max', i))\n",
    "for i in range(len(dogs)):\n",
    "    dogs[i].printInfo()"
   ]
  },
  {
   "cell_type": "markdown",
   "metadata": {},
   "source": [
    "#### Using Multiple Lists with Loops"
   ]
  },
  {
   "cell_type": "code",
   "execution_count": 11,
   "metadata": {},
   "outputs": [
    {
     "name": "stdout",
     "output_type": "stream",
     "text": [
      "Max has 4 legs.\n",
      "Sam has 4 legs.\n",
      "Clifford has 4 legs.\n",
      "Lassie has 4 legs.\n",
      "Butch has 4 legs.\n"
     ]
    }
   ],
   "source": [
    "names = ['Max','Sam','Clifford','Lassie','Butch']\n",
    "dogs_list = []\n",
    "\n",
    "for i in range(len(names)):\n",
    "    dogs_list.append(Dog(names[i], 4))\n",
    "    \n",
    "for i in range(len(dogs_list)):\n",
    "    dogs_list[i].printInfo()"
   ]
  },
  {
   "cell_type": "markdown",
   "metadata": {},
   "source": [
    "#### Using List Comprehension with Classes"
   ]
  },
  {
   "cell_type": "code",
   "execution_count": 14,
   "metadata": {},
   "outputs": [
    {
     "name": "stdout",
     "output_type": "stream",
     "text": [
      "Max has 4 legs.\n",
      "Sam has 4 legs.\n",
      "Clifford has 4 legs.\n",
      "Lassie has 4 legs.\n",
      "Butch has 4 legs.\n"
     ]
    }
   ],
   "source": [
    "dogs = [Dog(names[i], 4) for i in range(len(names))]\n",
    "\n",
    "for dog in dogs:\n",
    "    dog.printInfo()"
   ]
  },
  {
   "cell_type": "markdown",
   "metadata": {},
   "source": [
    "#### In-Class Exercise #1 - Use List Comprehension to create multiple 'Dog' objects using the lists below... <br>\n",
    "<p>names = ['max', 'lassy', 'sammi']<br>colors=['brown', 'black', 'mix']</p>"
   ]
  },
  {
   "cell_type": "code",
   "execution_count": 3,
   "metadata": {},
   "outputs": [
    {
     "name": "stdout",
     "output_type": "stream",
     "text": [
      "max is the color brown\n",
      "lassy is the color black\n",
      "sammi is the color mix\n"
     ]
    }
   ],
   "source": [
    "names = ['max', 'lassy', 'sammi']\n",
    "colors=['brown', 'black', 'mix']\n",
    "\n",
    "class Dog():\n",
    "    def __init__(self, name, color):\n",
    "        self.name = name \n",
    "        self.color = color\n",
    "    def printInfo(self):\n",
    "        print(f\"{self.name} is the color {self.color}\")\n",
    "        \n",
    "dogs = [Dog(names[dog], colors[dog]) for dog in range(len(names))]\n",
    "\n",
    "for dog in dogs:\n",
    "    dog.printInfo()\n",
    "    \n",
    "# dogs = [Dog(names[dog], colors[dog]) for dog in range(len(names)) and range(len(colors))]\n"
   ]
  },
  {
   "cell_type": "markdown",
   "metadata": {},
   "source": [
    "## Magic Methods <br>\n",
    "<p>Magic methods are any method that begins and ends with two underscores... You've already seen one of them in __init__(). Magic methods are the general functionality of an object, and you have the ability to overwrite what those methods do, giving you flexibility in your program.</p>"
   ]
  },
  {
   "cell_type": "markdown",
   "metadata": {},
   "source": [
    "#### \\__str\\__ <br>\n",
    "<p>This is the output of an object when you print the object itself.</p>"
   ]
  },
  {
   "cell_type": "code",
   "execution_count": 13,
   "metadata": {},
   "outputs": [
    {
     "name": "stdout",
     "output_type": "stream",
     "text": [
      "Jack is 27 years old and has 10 toes\n",
      "<class '__main__.Elevator'>\n"
     ]
    }
   ],
   "source": [
    "class Person():\n",
    "    def __init__(self, name, age, number_of_toes):\n",
    "        self.name = name\n",
    "        self.age = age\n",
    "        self.number_of_toes = number_of_toes\n",
    "\n",
    "    def __str__(self):\n",
    "        return f\"{self.name} is {self.age} years old and has {self.number_of_toes} toes\"\n",
    "jack = Person('Jack','27','10')\n",
    "print(jack)\n",
    "\n",
    "class Elevator():\n",
    "    def __init__(self, floor):\n",
    "        self.floor = floor\n",
    "        \n",
    "building_elevator = Elevator(4)\n",
    "\n",
    "building_elevator.__str__() #overrriding the variable to __str__ method\n",
    "\n",
    "print(Elevator)#can see what values are passed in class"
   ]
  },
  {
   "cell_type": "markdown",
   "metadata": {},
   "source": [
    "#### \\__add\\__"
   ]
  },
  {
   "cell_type": "code",
   "execution_count": 23,
   "metadata": {},
   "outputs": [
    {
     "name": "stdout",
     "output_type": "stream",
     "text": [
      "74 \n",
      "11\n"
     ]
    }
   ],
   "source": [
    "class Cat():\n",
    "    \n",
    "    def __init__(self, name, color, legs):\n",
    "        self.name = name\n",
    "        self.color = color\n",
    "        self.legs = legs\n",
    "    def __add__(self, extra_legs):\n",
    "        if type(extra_legs) != int:\n",
    "            return self.legs + extra_legs.legs #overrides the add to work with strings and also checks to see if we have integers\n",
    "        #extra_legs.legs to call the instance to the class if it doesnt work in this add method\n",
    "        else:\n",
    "            return self.legs + extra_legs.legs\n",
    "cat1 = Cat(\"Max\",\"Mixed\",'7')\n",
    "cat2 = Cat(\"Garfield\", \"Orange\",\"4 \")\n",
    "\n",
    "num_legs =cat1 + cat2 #concatonates by using instance extra_legs.legs overriding the error\n",
    "print(num_legs)\n",
    "\n",
    "cat3 = Cat(\"Max\",\"Mixed\",7)\n",
    "cat4 = Cat(\"Garfield\", \"Orange\",4)\n",
    "\n",
    "Num_legs = cat3+cat4 #actually add b/c it's working with ints\n",
    "print(Num_legs)"
   ]
  },
  {
   "cell_type": "markdown",
   "metadata": {},
   "source": [
    "#### Overriding Magic Methods"
   ]
  },
  {
   "cell_type": "code",
   "execution_count": null,
   "metadata": {},
   "outputs": [],
   "source": [
    "# see above"
   ]
  },
  {
   "cell_type": "markdown",
   "metadata": {},
   "source": [
    "#### In-Class Exercise #2 - Google another magic method and overwrite it's functionality..."
   ]
  },
  {
   "cell_type": "code",
   "execution_count": 37,
   "metadata": {},
   "outputs": [
    {
     "name": "stdout",
     "output_type": "stream",
     "text": [
      "True\n",
      "5 and 5 are the same\n",
      "None\n"
     ]
    },
    {
     "ename": "TypeError",
     "evalue": "'<' not supported between instances of 'Cat' and 'Cat'",
     "output_type": "error",
     "traceback": [
      "\u001b[1;31m---------------------------------------------------------------------------\u001b[0m",
      "\u001b[1;31mTypeError\u001b[0m                                 Traceback (most recent call last)",
      "\u001b[1;32m<ipython-input-37-0c0df4dac86c>\u001b[0m in \u001b[0;36m<module>\u001b[1;34m\u001b[0m\n\u001b[0;32m     26\u001b[0m \u001b[0mprint\u001b[0m\u001b[1;33m(\u001b[0m\u001b[0mcat1\u001b[0m\u001b[1;33m==\u001b[0m\u001b[0mcat2\u001b[0m\u001b[1;33m)\u001b[0m\u001b[1;33m\u001b[0m\u001b[1;33m\u001b[0m\u001b[0m\n\u001b[0;32m     27\u001b[0m \u001b[0mprint\u001b[0m\u001b[1;33m(\u001b[0m\u001b[0mcat1\u001b[0m\u001b[1;33m>=\u001b[0m\u001b[0mcat2\u001b[0m\u001b[1;33m)\u001b[0m\u001b[1;33m\u001b[0m\u001b[1;33m\u001b[0m\u001b[0m\n\u001b[1;32m---> 28\u001b[1;33m \u001b[0mprint\u001b[0m\u001b[1;33m(\u001b[0m\u001b[0mcat1\u001b[0m\u001b[1;33m<\u001b[0m\u001b[0mcat2\u001b[0m\u001b[1;33m)\u001b[0m\u001b[1;33m\u001b[0m\u001b[1;33m\u001b[0m\u001b[0m\n\u001b[0m",
      "\u001b[1;31mTypeError\u001b[0m: '<' not supported between instances of 'Cat' and 'Cat'"
     ]
    }
   ],
   "source": [
    "class Cat():\n",
    "    \n",
    "    def __init__(self, name, color, legs):\n",
    "        self.name = name\n",
    "        self.color = color\n",
    "        self.legs = legs\n",
    "        \n",
    "    def __int__(self):\n",
    "        if type(self.legs) != int:\n",
    "            return int(self.legs)\n",
    "        \n",
    "    def __eq__(self, extra):\n",
    "        if self.legs == extra.legs:\n",
    "            return True\n",
    "        else:\n",
    "            return False\n",
    "    def __ge__(self, extra):\n",
    "        if self.legs > extra.legs:\n",
    "            print(f\"{self.legs} is greater\")\n",
    "        elif self.legs>= extra.legs:\n",
    "            print(f\"{self.legs} and {extra.legs} are the same\")\n",
    "        else:\n",
    "            return False\n",
    "        \n",
    "cat1 = Cat(\"Max\",\"Mixed\",5)\n",
    "cat2 = Cat(\"bruno\",\"black\",5)\n",
    "print(cat1==cat2)\n",
    "print(cat1>=cat2)\n",
    "print(cat1<cat2)"
   ]
  },
  {
   "cell_type": "markdown",
   "metadata": {},
   "source": [
    "\n",
    "## Inheritance & Method Overriding (recap)"
   ]
  },
  {
   "cell_type": "markdown",
   "metadata": {},
   "source": [
    "#### Inheriting (recap)"
   ]
  },
  {
   "cell_type": "code",
   "execution_count": 44,
   "metadata": {},
   "outputs": [
    {
     "name": "stdout",
     "output_type": "stream",
     "text": [
      "This is a Mammal\n",
      "Frank is a part of the Mammal species.\n"
     ]
    }
   ],
   "source": [
    "class Animal():\n",
    "    def __init__(self, species):\n",
    "        self.species = species\n",
    "    def __str__(self):\n",
    "        return f\"This is a {self.species}\"\n",
    "class Dog(Animal):\n",
    "    def __init__(self, name,species):\n",
    "        self.name = name \n",
    "        Animal.__init__(self, species)#super().__init(species) just species instead of both\n",
    "    def __str__(self):\n",
    "        return f\"{self.name} is a part of the {self.species} species.\"\n",
    "mammal = Animal(\"Mammal\")\n",
    "dog = Dog(\"Frank\",\"Mammal\")\n",
    "\n",
    "print(mammal)\n",
    "print(dog)"
   ]
  },
  {
   "cell_type": "markdown",
   "metadata": {},
   "source": [
    "#### Overriding Inherited Magic Methods"
   ]
  },
  {
   "cell_type": "code",
   "execution_count": null,
   "metadata": {},
   "outputs": [],
   "source": [
    "# see above"
   ]
  },
  {
   "cell_type": "markdown",
   "metadata": {},
   "source": [
    "#### Inheriting Multiple Classes"
   ]
  },
  {
   "cell_type": "code",
   "execution_count": 46,
   "metadata": {},
   "outputs": [
    {
     "name": "stdout",
     "output_type": "stream",
     "text": [
      "Bobbie is a part of the canin and runs 30 mph.\n"
     ]
    }
   ],
   "source": [
    "class Physics():\n",
    "    def __init__(self, speed):\n",
    "        self.gravity = 9.8\n",
    "        self.speed = speed\n",
    "class Animal():\n",
    "    def __init__(self, species):\n",
    "        self.species = species\n",
    "    def __str__(self):\n",
    "        return f\"This is a {self.species}\"\n",
    "class Dog(Animal, Physics):\n",
    "    def __init__(self, species, name, speed):\n",
    "        self.name = name\n",
    "        Animal.__init__(self, species)\n",
    "        Physics.__init__(self, speed)\n",
    "    def __str__(self):\n",
    "        return f\"{self.name} is a part of the {self.species} and runs {self.speed} mph.\"\n",
    "dog1 = Dog(\"canin\", \"Bobbie\", 30)\n",
    "print(dog1)"
   ]
  },
  {
   "cell_type": "markdown",
   "metadata": {},
   "source": [
    "#### Homework Excersise - Create a transportation class, a physics class, and a bus class <br>\n",
    "<p>Create a transportation class, a physics class, and a bus class... Have the Bus class inherit both the transportation class and physics class. The physics class should have an attribute of speed, and print out the speed, plus have an acceleration method. The transportation class should have a 'type_of_transportation' attribute, and print the type(type_of_transportation [i.e road/air]) that is being used. The bus class should have attributes that describe the bus, such as; wheels, color, size, etc. Overwrite the __str__ method so that when you print the object, it prints out the bus information, and the speed.</p>"
   ]
  },
  {
   "cell_type": "code",
   "execution_count": 44,
   "metadata": {},
   "outputs": [
    {
     "name": "stdout",
     "output_type": "stream",
     "text": [
      "This is a bus.\n",
      "It goes at 20 mph.\n",
      "This bus has 4, is red, compact, 20 is mph.\n"
     ]
    }
   ],
   "source": [
    "class Transportation():\n",
    "    def __init__(self, type_of_transportation):\n",
    "        self.type_of_transportation = type_of_transportation\n",
    "    def __str__(self):\n",
    "        return f\"This is a {self.type_of_transportation}.\"    \n",
    "class Physics():\n",
    "    def __init__(self, speed):\n",
    "        self.speed = speed\n",
    "#         self.time = time\n",
    "#     def acceleration(self, time):\n",
    "#         return self.speed ==self.speed//self.time\n",
    "    def __str__(self):\n",
    "        return f\"It goes at {self.speed} mph.\"\n",
    "class Bus(Transportation, Physics):\n",
    "    def __init__(self, type_of_transportation, wheels, color, size, speed):\n",
    "        self.wheels = wheels \n",
    "        self.color = color\n",
    "        self.size = size\n",
    "        Physics.__init__(self, speed)\n",
    "        Transportation.__init__(self, type_of_transportation)\n",
    "    def __str__(self): \n",
    "        return f\"This {self.type_of_transportation} has {self.wheels}, is {self.color}, {self.size}, {self.speed} is mph.\"\n",
    "\n",
    "Trans = Transportation('bus')\n",
    "print(Trans)\n",
    "\n",
    "bus1 = Physics(20)\n",
    "print(bus1)\n",
    "\n",
    "from_bus = Bus('bus', 4, 'red', 'compact',20)\n",
    "print(from_bus)\n",
    "\n"
   ]
  }
 ],
 "metadata": {
  "kernelspec": {
   "display_name": "Python 3",
   "language": "python",
   "name": "python3"
  },
  "language_info": {
   "codemirror_mode": {
    "name": "ipython",
    "version": 3
   },
   "file_extension": ".py",
   "mimetype": "text/x-python",
   "name": "python",
   "nbconvert_exporter": "python",
   "pygments_lexer": "ipython3",
   "version": "3.7.6"
  }
 },
 "nbformat": 4,
 "nbformat_minor": 2
}
